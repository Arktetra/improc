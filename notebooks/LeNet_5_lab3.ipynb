{
  "cells": [
    {
      "cell_type": "markdown",
      "metadata": {},
      "source": [
        "### Basic Try implementation of Le-Net, doesn't work that well though, (done in colab, accuracy is only 10% after ReLU ..)"
      ]
    },
    {
      "cell_type": "code",
      "execution_count": 1,
      "metadata": {
        "id": "ujd9JrAY0RLg"
      },
      "outputs": [],
      "source": [
        "import torch\n",
        "import torch.nn as nn\n",
        "import torchvision\n",
        "import torchvision.transforms as transforms\n",
        "from torchvision import datasets\n",
        "from torch.utils.data import DataLoader"
      ]
    },
    {
      "cell_type": "code",
      "execution_count": 2,
      "metadata": {
        "id": "WL3fwMPq0rfc"
      },
      "outputs": [],
      "source": [
        "batch_size = 2 ** 8\n",
        "num_classes = 10 # i.e 0-9 (output)\n",
        "learning_rate = 0.001\n",
        "num_epochs = 10"
      ]
    },
    {
      "cell_type": "code",
      "execution_count": 3,
      "metadata": {
        "id": "GodNl5Le01bv"
      },
      "outputs": [],
      "source": [
        "device = torch.device('cuda' if torch.cuda.is_available() else 'mps' if torch.backends.mps.is_available() else 'cpu')"
      ]
    },
    {
      "cell_type": "code",
      "execution_count": 4,
      "metadata": {
        "colab": {
          "base_uri": "https://localhost:8080/"
        },
        "id": "TPD6n7R51GCc",
        "outputId": "49ead35d-dab3-45fd-842c-cd83540cc172"
      },
      "outputs": [
        {
          "data": {
            "text/plain": [
              "device(type='mps')"
            ]
          },
          "execution_count": 4,
          "metadata": {},
          "output_type": "execute_result"
        }
      ],
      "source": [
        "device"
      ]
    },
    {
      "cell_type": "code",
      "execution_count": 5,
      "metadata": {
        "id": "D8bpmgnn1Sno"
      },
      "outputs": [],
      "source": [
        "transform_data = transforms.Compose([\n",
        "    transforms.Resize((32, 32)),\n",
        "    transforms.ToTensor(),\n",
        "    transforms.Normalize(mean = (0.1307,), std = (0.3081,))\n",
        "])"
      ]
    },
    {
      "cell_type": "markdown",
      "metadata": {},
      "source": [
        "### idk why download not working in local? can someone explain..."
      ]
    },
    {
      "cell_type": "code",
      "execution_count": 6,
      "metadata": {
        "colab": {
          "base_uri": "https://localhost:8080/"
        },
        "id": "MKekLutR1H7G",
        "outputId": "a668d750-a8de-47d3-c544-b1c468483aab"
      },
      "outputs": [
        {
          "name": "stdout",
          "output_type": "stream",
          "text": [
            "Downloading http://yann.lecun.com/exdb/mnist/train-images-idx3-ubyte.gz\n",
            "Failed to download (trying next):\n",
            "HTTP Error 404: Not Found\n",
            "\n",
            "Downloading https://ossci-datasets.s3.amazonaws.com/mnist/train-images-idx3-ubyte.gz\n",
            "Failed to download (trying next):\n",
            "<urlopen error [SSL: CERTIFICATE_VERIFY_FAILED] certificate verify failed: unable to get local issuer certificate (_ssl.c:1007)>\n",
            "\n"
          ]
        },
        {
          "ename": "RuntimeError",
          "evalue": "Error downloading train-images-idx3-ubyte.gz",
          "output_type": "error",
          "traceback": [
            "\u001b[0;31m---------------------------------------------------------------------------\u001b[0m",
            "\u001b[0;31mRuntimeError\u001b[0m                              Traceback (most recent call last)",
            "Cell \u001b[0;32mIn[6], line 1\u001b[0m\n\u001b[0;32m----> 1\u001b[0m train_dataset \u001b[38;5;241m=\u001b[39m \u001b[43mdatasets\u001b[49m\u001b[38;5;241;43m.\u001b[39;49m\u001b[43mMNIST\u001b[49m\u001b[43m(\u001b[49m\u001b[43mroot\u001b[49m\u001b[38;5;241;43m=\u001b[39;49m\u001b[38;5;124;43m\"\u001b[39;49m\u001b[38;5;124;43m./assets\u001b[39;49m\u001b[38;5;124;43m\"\u001b[39;49m\u001b[43m,\u001b[49m\u001b[43m \u001b[49m\u001b[43mtrain\u001b[49m\u001b[38;5;241;43m=\u001b[39;49m\u001b[38;5;28;43;01mTrue\u001b[39;49;00m\u001b[43m,\u001b[49m\u001b[43m \u001b[49m\u001b[43mtransform\u001b[49m\u001b[38;5;241;43m=\u001b[39;49m\u001b[43mtransform_data\u001b[49m\u001b[43m,\u001b[49m\u001b[43m \u001b[49m\u001b[43mdownload\u001b[49m\u001b[38;5;241;43m=\u001b[39;49m\u001b[38;5;28;43;01mTrue\u001b[39;49;00m\u001b[43m)\u001b[49m\n\u001b[1;32m      2\u001b[0m test_dataset \u001b[38;5;241m=\u001b[39m datasets\u001b[38;5;241m.\u001b[39mMNIST(root\u001b[38;5;241m=\u001b[39m\u001b[38;5;124m\"\u001b[39m\u001b[38;5;124m./assets\u001b[39m\u001b[38;5;124m\"\u001b[39m, train\u001b[38;5;241m=\u001b[39m\u001b[38;5;28;01mFalse\u001b[39;00m, transform\u001b[38;5;241m=\u001b[39mtransform_data, download\u001b[38;5;241m=\u001b[39m\u001b[38;5;28;01mTrue\u001b[39;00m)\n",
            "File \u001b[0;32m/Library/Frameworks/Python.framework/Versions/3.10/lib/python3.10/site-packages/torchvision/datasets/mnist.py:99\u001b[0m, in \u001b[0;36mMNIST.__init__\u001b[0;34m(self, root, train, transform, target_transform, download)\u001b[0m\n\u001b[1;32m     96\u001b[0m     \u001b[38;5;28;01mreturn\u001b[39;00m\n\u001b[1;32m     98\u001b[0m \u001b[38;5;28;01mif\u001b[39;00m download:\n\u001b[0;32m---> 99\u001b[0m     \u001b[38;5;28;43mself\u001b[39;49m\u001b[38;5;241;43m.\u001b[39;49m\u001b[43mdownload\u001b[49m\u001b[43m(\u001b[49m\u001b[43m)\u001b[49m\n\u001b[1;32m    101\u001b[0m \u001b[38;5;28;01mif\u001b[39;00m \u001b[38;5;129;01mnot\u001b[39;00m \u001b[38;5;28mself\u001b[39m\u001b[38;5;241m.\u001b[39m_check_exists():\n\u001b[1;32m    102\u001b[0m     \u001b[38;5;28;01mraise\u001b[39;00m \u001b[38;5;167;01mRuntimeError\u001b[39;00m(\u001b[38;5;124m\"\u001b[39m\u001b[38;5;124mDataset not found. You can use download=True to download it\u001b[39m\u001b[38;5;124m\"\u001b[39m)\n",
            "File \u001b[0;32m/Library/Frameworks/Python.framework/Versions/3.10/lib/python3.10/site-packages/torchvision/datasets/mnist.py:195\u001b[0m, in \u001b[0;36mMNIST.download\u001b[0;34m(self)\u001b[0m\n\u001b[1;32m    193\u001b[0m     \u001b[38;5;28;01mbreak\u001b[39;00m\n\u001b[1;32m    194\u001b[0m \u001b[38;5;28;01melse\u001b[39;00m:\n\u001b[0;32m--> 195\u001b[0m     \u001b[38;5;28;01mraise\u001b[39;00m \u001b[38;5;167;01mRuntimeError\u001b[39;00m(\u001b[38;5;124mf\u001b[39m\u001b[38;5;124m\"\u001b[39m\u001b[38;5;124mError downloading \u001b[39m\u001b[38;5;132;01m{\u001b[39;00mfilename\u001b[38;5;132;01m}\u001b[39;00m\u001b[38;5;124m\"\u001b[39m)\n",
            "\u001b[0;31mRuntimeError\u001b[0m: Error downloading train-images-idx3-ubyte.gz"
          ]
        }
      ],
      "source": [
        "train_dataset = datasets.MNIST(root=\"./assets\", train=True, transform=transform_data, download=True)\n",
        "test_dataset = datasets.MNIST(root=\"./assets\", train=False, transform=transform_data, download=True)"
      ]
    },
    {
      "cell_type": "code",
      "execution_count": null,
      "metadata": {
        "id": "-4wAXzuB11LA"
      },
      "outputs": [],
      "source": [
        "train_loader = DataLoader(dataset = train_dataset, batch_size=batch_size, shuffle=True)\n",
        "test_loader = DataLoader(dataset = test_dataset, batch_size=batch_size, shuffle=True)"
      ]
    },
    {
      "cell_type": "code",
      "execution_count": null,
      "metadata": {
        "id": "9okyt1W52gGF"
      },
      "outputs": [],
      "source": [
        "# defining LeNet5 arch now..\n",
        "conv_kernel_size = (5, 5)\n",
        "pool_kernel_size = (2, 2)\n",
        "\n",
        "class LeNet5(nn.Module):\n",
        "\n",
        "  def __init__(self, num_classes):\n",
        "    super().__init__()\n",
        "\n",
        "    self.c1 = nn.Conv2d(1, 6, conv_kernel_size) # with padding (0) and stride (1) default\n",
        "    self.s2 = nn.MaxPool2d(pool_kernel_size, stride=2) # stride 2 and kernel 2x2 will half the size of output\n",
        "    self.c3 = nn.Conv2d(6, 16, conv_kernel_size)\n",
        "    self.s4 = self.s2 # i.e same as layer 2 max pooling\n",
        "    # self.c5 = nn.Conv2d(16, 120, conv_kernel_size) # this doesn't seem to exist\n",
        "\n",
        "    self.mlp = nn.Sequential(\n",
        "        nn.Linear(400, 120),\n",
        "        nn.Linear(120, 84),\n",
        "        nn.Linear(84, 10)\n",
        "    )\n",
        "\n",
        "    self.softmax = nn.Softmax(dim=0)\n",
        "\n",
        "  def forward(self, batch_img):\n",
        "    y = self.c1(batch_img)\n",
        "    y = self.s2(y)\n",
        "\n",
        "    y = self.c3(y)\n",
        "    y = self.s4(y)\n",
        "\n",
        "    y = torch.flatten(y, start_dim=1) # starting from batch so don't flatten all...\n",
        "    logits = self.mlp(y)\n",
        "    y = self.softmax(y)\n",
        "\n",
        "    return y\n"
      ]
    },
    {
      "cell_type": "code",
      "execution_count": null,
      "metadata": {
        "id": "TUqThe9sA2Zk"
      },
      "outputs": [],
      "source": [
        "class LeNet5_V2(nn.Module):\n",
        "\n",
        "  def __init__(self, num_classes):\n",
        "    super().__init__()\n",
        "\n",
        "    self.c1 = nn.Conv2d(1, 6, conv_kernel_size) # with padding (0) and stride (1) default\n",
        "    self.s2 = nn.AvgPool2d(pool_kernel_size, stride=2) # stride 2 and kernel 2x2 will half the size of output\n",
        "    self.c3 = nn.Conv2d(6, 16, conv_kernel_size)\n",
        "    self.s4 = self.s2 # i.e same as layer 2 max pooling\n",
        "    # self.c5 = nn.Conv2d(16, 120, conv_kernel_size) # this doesn't seem to exist\n",
        "\n",
        "    self.mlp = nn.Sequential(\n",
        "        nn.Linear(400, 120),\n",
        "        nn.ReLU(),\n",
        "        nn.Linear(120, 84),\n",
        "        nn.ReLU(),\n",
        "        nn.Linear(84, 10)\n",
        "    )\n",
        "\n",
        "    self.ReLU = nn.ReLU()\n",
        "    self.softmax = nn.Softmax(dim=0)\n",
        "\n",
        "  def forward(self, batch_img):\n",
        "    y = self.c1(batch_img)\n",
        "    y = self.ReLU(y)\n",
        "    y = self.s2(y)\n",
        "\n",
        "    y = self.c3(y)\n",
        "    y = self.ReLU(y)\n",
        "    y = self.s4(y)\n",
        "\n",
        "    y = torch.flatten(y, start_dim=1) # starting from batch so don't flatten all...\n",
        "    logits = self.mlp(y)\n",
        "    y = self.softmax(y)\n",
        "\n",
        "    return y\n"
      ]
    },
    {
      "cell_type": "code",
      "execution_count": null,
      "metadata": {
        "id": "zN9PoSG75uFB"
      },
      "outputs": [],
      "source": [
        "# model = LeNet5(num_classes).to(device)\n",
        "model = LeNet5_V2(num_classes).to(device)"
      ]
    },
    {
      "cell_type": "code",
      "execution_count": null,
      "metadata": {
        "id": "0My6Tu1_51r-"
      },
      "outputs": [],
      "source": [
        "loss_fn = nn.CrossEntropyLoss()\n",
        "optimizer = torch.optim.Adam(model.parameters(), lr=learning_rate)\n",
        "\n",
        "total_step = len(train_loader)"
      ]
    },
    {
      "cell_type": "code",
      "execution_count": null,
      "metadata": {
        "colab": {
          "base_uri": "https://localhost:8080/"
        },
        "id": "KHOb1Ku06QFR",
        "outputId": "436242c3-68bb-47b2-c569-6f9c80b67c89"
      },
      "outputs": [
        {
          "data": {
            "text/plain": [
              "(tensor([[[-0.4242, -0.4242, -0.4242,  ..., -0.4242, -0.4242, -0.4242],\n",
              "          [-0.4242, -0.4242, -0.4242,  ..., -0.4242, -0.4242, -0.4242],\n",
              "          [-0.4242, -0.4242, -0.4242,  ..., -0.4242, -0.4242, -0.4242],\n",
              "          ...,\n",
              "          [-0.4242, -0.4242, -0.4242,  ..., -0.4242, -0.4242, -0.4242],\n",
              "          [-0.4242, -0.4242, -0.4242,  ..., -0.4242, -0.4242, -0.4242],\n",
              "          [-0.4242, -0.4242, -0.4242,  ..., -0.4242, -0.4242, -0.4242]]]),\n",
              " 5)"
            ]
          },
          "execution_count": 22,
          "metadata": {},
          "output_type": "execute_result"
        }
      ],
      "source": [
        "(images, labels) = train_loader.dataset[0]\n",
        "images, labels"
      ]
    },
    {
      "cell_type": "code",
      "execution_count": null,
      "metadata": {
        "id": "Y3E43ZxW6A5n"
      },
      "outputs": [],
      "source": [
        "log_rate = 6000 / batch_size\n",
        "\n",
        "def train(num_epochs):\n",
        "  for epoch in range(num_epochs):\n",
        "    for ind, (imgs, labels) in enumerate(train_loader):\n",
        "      imgs = imgs.to(device)\n",
        "      labels = labels.to(device)\n",
        "\n",
        "      outputs = model(imgs)\n",
        "      loss = loss_fn(outputs, labels)\n",
        "\n",
        "      optimizer.zero_grad()\n",
        "      loss.backward()\n",
        "      optimizer.step()\n",
        "\n",
        "      if(ind+1) % log_rate == 0:\n",
        "        print('Epoch [{}/{}], Step [{}/{}, Loss: {:.4f}]'.format(epoch+1, num_epochs, ind+1, total_step, loss.item()))"
      ]
    },
    {
      "cell_type": "code",
      "execution_count": null,
      "metadata": {
        "id": "KCA4huTV7KKO"
      },
      "outputs": [],
      "source": [
        "train(num_epochs)"
      ]
    },
    {
      "cell_type": "code",
      "execution_count": null,
      "metadata": {
        "id": "oNIIb45e7PrQ"
      },
      "outputs": [],
      "source": [
        "def test():\n",
        "  model.eval()\n",
        "  with torch.no_grad():\n",
        "    correct = 0\n",
        "    total = 0\n",
        "\n",
        "    for imgs, labels in test_loader:\n",
        "      imgs = imgs.to(device)\n",
        "      labels = labels.to(device)\n",
        "\n",
        "      outputs = model(imgs)\n",
        "      # outputs.shape\n",
        "      _, predicted = torch.max(outputs.data, 1)\n",
        "\n",
        "      total += labels.size(0)\n",
        "      correct += (predicted == labels).sum().item()\n",
        "\n",
        "    accuracy = 100 * correct / total\n",
        "\n",
        "    print(f'Accuracy of the network on the 10000 test images : {accuracy:.2f} %')"
      ]
    },
    {
      "cell_type": "code",
      "execution_count": null,
      "metadata": {
        "colab": {
          "base_uri": "https://localhost:8080/"
        },
        "id": "An6NgKLW95-c",
        "outputId": "543084c9-b075-4946-e9c5-a49b6e7e65e8"
      },
      "outputs": [
        {
          "data": {
            "text/plain": [
              "40"
            ]
          },
          "execution_count": 26,
          "metadata": {},
          "output_type": "execute_result"
        }
      ],
      "source": [
        "len(test_loader)"
      ]
    },
    {
      "cell_type": "code",
      "execution_count": null,
      "metadata": {
        "colab": {
          "base_uri": "https://localhost:8080/"
        },
        "id": "1c5km21a9j8g",
        "outputId": "50edb52f-a5dd-4bc8-fcfa-233c951f6549"
      },
      "outputs": [
        {
          "name": "stdout",
          "output_type": "stream",
          "text": [
            "Accuracy of the network on the 10000 test images : 10.03 %\n"
          ]
        }
      ],
      "source": [
        "test()"
      ]
    }
  ],
  "metadata": {
    "accelerator": "GPU",
    "colab": {
      "gpuType": "T4",
      "provenance": []
    },
    "kernelspec": {
      "display_name": "Python 3",
      "name": "python3"
    },
    "language_info": {
      "codemirror_mode": {
        "name": "ipython",
        "version": 3
      },
      "file_extension": ".py",
      "mimetype": "text/x-python",
      "name": "python",
      "nbconvert_exporter": "python",
      "pygments_lexer": "ipython3",
      "version": "3.10.11"
    }
  },
  "nbformat": 4,
  "nbformat_minor": 0
}
