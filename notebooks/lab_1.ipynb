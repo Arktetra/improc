{
 "cells": [
  {
   "cell_type": "code",
<<<<<<< HEAD
   "execution_count": 1,
=======
   "execution_count": 3,
>>>>>>> f767a46a9623a66fb0c3229499d7bb6a3994cba6
   "id": "0408ac0a-d502-4715-b6ca-2721d529102b",
   "metadata": {},
   "outputs": [],
   "source": [
    "from improc.utils import hello"
   ]
  },
  {
   "cell_type": "code",
<<<<<<< HEAD
   "execution_count": 2,
=======
   "execution_count": 4,
>>>>>>> f767a46a9623a66fb0c3229499d7bb6a3994cba6
   "id": "10062397-2db2-4d7d-b8ae-deb69303ff31",
   "metadata": {},
   "outputs": [
    {
     "data": {
      "text/plain": [
       "'Hello'"
      ]
     },
<<<<<<< HEAD
     "execution_count": 2,
=======
     "execution_count": 4,
>>>>>>> f767a46a9623a66fb0c3229499d7bb6a3994cba6
     "metadata": {},
     "output_type": "execute_result"
    }
   ],
   "source": [
    "hello()"
   ]
  },
  {
   "cell_type": "code",
   "execution_count": null,
   "id": "1ed7768f-8abf-477d-bcdb-b03ca911f733",
   "metadata": {},
   "outputs": [],
   "source": []
  }
 ],
 "metadata": {
  "kernelspec": {
<<<<<<< HEAD
   "display_name": "Python 3",
=======
   "display_name": "base",
>>>>>>> f767a46a9623a66fb0c3229499d7bb6a3994cba6
   "language": "python",
   "name": "python3"
  },
  "language_info": {
   "codemirror_mode": {
    "name": "ipython",
    "version": 3
   },
   "file_extension": ".py",
   "mimetype": "text/x-python",
   "name": "python",
   "nbconvert_exporter": "python",
   "pygments_lexer": "ipython3",
<<<<<<< HEAD
   "version": "3.10.11"
=======
   "version": "3.12.8"
>>>>>>> f767a46a9623a66fb0c3229499d7bb6a3994cba6
  }
 },
 "nbformat": 4,
 "nbformat_minor": 5
}
